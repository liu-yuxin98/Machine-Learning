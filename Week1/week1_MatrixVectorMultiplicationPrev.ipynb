{
 "cells": [
  {
   "cell_type": "code",
   "execution_count": 14,
   "metadata": {
    "collapsed": true,
    "pycharm": {
     "is_executing": false
    }
   },
   "outputs": [],
   "source": [
    "import numpy as np\n",
    "import random\n",
    "import pandas as pd"
   ]
  },
  {
   "cell_type": "code",
   "execution_count": 10,
   "outputs": [
    {
     "data": {
      "text/plain": "array([[ 6],\n       [15],\n       [24]])"
     },
     "metadata": {},
     "output_type": "execute_result",
     "execution_count": 10
    }
   ],
   "source": [
    "# Initialize matrix A \n",
    "A = np.mat([[1, 2, 3],[4, 5, 6] ,[7, 8, 9]] )\n",
    "# Initialize vector v \n",
    "V= np.mat([[1],[1],[1]])\n",
    "# Multiply A * V\n",
    "AV =A*V\n",
    "# from mat to np.array\n",
    "AV = np.array(AV)\n",
    "AV"
   ],
   "metadata": {
    "collapsed": false,
    "pycharm": {
     "name": "#%%\n",
     "is_executing": false
    }
   }
  },
  {
   "cell_type": "code",
   "execution_count": 11,
   "outputs": [
    {
     "data": {
      "text/plain": "matrix([[ 5],\n        [11],\n        [17]])"
     },
     "metadata": {},
     "output_type": "execute_result",
     "execution_count": 11
    }
   ],
   "source": [
    "# Initialize a 3 by 2 matrix \n",
    "A = np.mat([[1,2],[3,4],[5,6]])\n",
    "# Initialize a 2 by 1 matrix \n",
    "B = np.mat([[1],[2]])\n",
    "mult_AB = A*B\n",
    "mult_AB\n"
   ],
   "metadata": {
    "collapsed": false,
    "pycharm": {
     "name": "#%%\n",
     "is_executing": false
    }
   }
  },
  {
   "cell_type": "code",
   "execution_count": 13,
   "outputs": [
    {
     "data": {
      "text/plain": "matrix([[1., 2.],\n        [4., 5.]])"
     },
     "metadata": {},
     "output_type": "execute_result",
     "execution_count": 13
    }
   ],
   "source": [
    "# Initialize random matrices A and B \n",
    "A = np.mat([[1,2],[4,5]])\n",
    "B = np.mat([[1,1],[0,2]])\n",
    "#  Initialize a 2 by 2 identity matrix\n",
    "I = np.eye(2)\n",
    "AI = A*I\n",
    "AI\n",
    "IA = I*A\n",
    "IA"
   ],
   "metadata": {
    "collapsed": false,
    "pycharm": {
     "name": "#%%\n",
     "is_executing": false
    }
   }
  },
  {
   "cell_type": "code",
   "execution_count": 30,
   "outputs": [
    {
     "data": {
      "text/plain": "matrix([[ 0.34883721, -0.13953488,  0.09302326],\n        [ 0.3255814 ,  0.06976744, -0.04651163],\n        [-0.27131783,  0.10852713,  0.03875969]])"
     },
     "metadata": {},
     "output_type": "execute_result",
     "execution_count": 30
    }
   ],
   "source": [
    "# Initialize random matrices A\n",
    "A = np.mat(\"1,2,0;0,5,6;7,0,9\") \n",
    "A\n",
    "A_trans = A.T\n",
    "# Transpose\n",
    "A_trans\n",
    "# Inverse\n",
    "InverseA = np.linalg.inv(A)\n",
    "InverseA"
   ],
   "metadata": {
    "collapsed": false,
    "pycharm": {
     "name": "#%%\n",
     "is_executing": false
    }
   }
  },
  {
   "cell_type": "code",
   "execution_count": null,
   "outputs": [],
   "source": [
    "\n"
   ],
   "metadata": {
    "collapsed": false,
    "pycharm": {
     "name": "#%%\n"
    }
   }
  }
 ],
 "metadata": {
  "kernelspec": {
   "display_name": "Python 3",
   "language": "python",
   "name": "python3"
  },
  "language_info": {
   "codemirror_mode": {
    "name": "ipython",
    "version": 2
   },
   "file_extension": ".py",
   "mimetype": "text/x-python",
   "name": "python",
   "nbconvert_exporter": "python",
   "pygments_lexer": "ipython2",
   "version": "2.7.6"
  },
  "pycharm": {
   "stem_cell": {
    "cell_type": "raw",
    "source": [],
    "metadata": {
     "collapsed": false
    }
   }
  }
 },
 "nbformat": 4,
 "nbformat_minor": 0
}